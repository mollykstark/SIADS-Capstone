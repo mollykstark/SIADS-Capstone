{
 "cells": [
  {
   "cell_type": "code",
   "execution_count": 1,
   "id": "initial_id",
   "metadata": {
    "ExecuteTime": {
     "end_time": "2025-07-04T17:44:40.169066Z",
     "start_time": "2025-07-04T17:44:40.150511Z"
    },
    "collapsed": true
   },
   "outputs": [],
   "source": [
    "import pandas as pd\n",
    "import json"
   ]
  },
  {
   "cell_type": "code",
   "execution_count": null,
   "id": "405330d71c530503",
   "metadata": {
    "ExecuteTime": {
     "end_time": "2025-07-04T17:44:08.359149Z",
     "start_time": "2025-07-04T17:44:07.895653Z"
    }
   },
   "outputs": [],
   "source": [
    "# Use the reviews dataset to look for the matching book_id\n",
    "reviews_df = pd.read_csv('10000_reviews.csv')"
   ]
  },
  {
   "cell_type": "code",
   "execution_count": 3,
   "id": "2e74a9ceacd1f5b4",
   "metadata": {
    "ExecuteTime": {
     "end_time": "2025-07-04T17:44:21.961953Z",
     "start_time": "2025-07-04T17:44:21.947225Z"
    }
   },
   "outputs": [],
   "source": [
    "# Extract the book_id from reviews dataset\n",
    "\n",
    "book_ids_to_keep = set(reviews_df['book_id'].unique())"
   ]
  },
  {
   "cell_type": "code",
   "execution_count": 4,
   "id": "dbcd99daf4554248",
   "metadata": {
    "ExecuteTime": {
     "end_time": "2025-07-04T17:53:30.795627Z",
     "start_time": "2025-07-04T17:53:30.786326Z"
    }
   },
   "outputs": [],
   "source": [
    "# Keeping only the rows with same book_id\n",
    "\n",
    "def get_books_for_reviews(book_file, book_ids_set):\n",
    "    books = []\n",
    "    with open(book_file, 'rt', encoding='utf-8') as f:\n",
    "        for line in f:\n",
    "            book = json.loads(line)\n",
    "            if int(book['book_id']) in book_ids_set:\n",
    "                books.append(book)\n",
    "    return pd.DataFrame(books)"
   ]
  },
  {
   "cell_type": "code",
   "execution_count": 5,
   "id": "342803f42aa140af",
   "metadata": {
    "ExecuteTime": {
     "end_time": "2025-07-04T17:55:32.202092Z",
     "start_time": "2025-07-04T17:53:32.330200Z"
    }
   },
   "outputs": [],
   "source": [
    "\n",
    "books_df = get_books_for_reviews(\"goodreads_books.json\", book_ids_to_keep)"
   ]
  },
  {
   "cell_type": "code",
   "execution_count": 6,
   "id": "4de4302543c244b8",
   "metadata": {
    "ExecuteTime": {
     "end_time": "2025-07-04T17:57:02.595068Z",
     "start_time": "2025-07-04T17:57:02.588465Z"
    }
   },
   "outputs": [
    {
     "data": {
      "text/plain": [
       "6301"
      ]
     },
     "execution_count": 6,
     "metadata": {},
     "output_type": "execute_result"
    }
   ],
   "source": [
    "len(books_df)"
   ]
  },
  {
   "cell_type": "code",
   "execution_count": 7,
   "id": "ca191dfc8e4f310f",
   "metadata": {
    "ExecuteTime": {
     "end_time": "2025-07-04T17:58:11.025315Z",
     "start_time": "2025-07-04T17:58:08.681227Z"
    }
   },
   "outputs": [],
   "source": [
    "books_df.to_csv('book_titles.csv')"
   ]
  }
 ],
 "metadata": {
  "kernelspec": {
   "display_name": ".venv",
   "language": "python",
   "name": "python3"
  },
  "language_info": {
   "codemirror_mode": {
    "name": "ipython",
    "version": 3
   },
   "file_extension": ".py",
   "mimetype": "text/x-python",
   "name": "python",
   "nbconvert_exporter": "python",
   "pygments_lexer": "ipython3",
   "version": "3.13.0"
  }
 },
 "nbformat": 4,
 "nbformat_minor": 5
}

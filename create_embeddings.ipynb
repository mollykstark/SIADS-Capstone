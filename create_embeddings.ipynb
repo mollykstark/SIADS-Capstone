{
 "cells": [
  {
   "cell_type": "code",
   "execution_count": 1,
   "id": "d2b7579b",
   "metadata": {},
   "outputs": [
    {
     "name": "stderr",
     "output_type": "stream",
     "text": [
      "/Users/mollystark/Desktop/michigan/capstone/SIADS-Capstone/.venv/lib/python3.13/site-packages/tqdm/auto.py:21: TqdmWarning: IProgress not found. Please update jupyter and ipywidgets. See https://ipywidgets.readthedocs.io/en/stable/user_install.html\n",
      "  from .autonotebook import tqdm as notebook_tqdm\n"
     ]
    }
   ],
   "source": [
    "from sentence_transformers import SentenceTransformer\n",
    "import pandas as pd"
   ]
  },
  {
   "cell_type": "code",
   "execution_count": 2,
   "id": "d19d48b2",
   "metadata": {},
   "outputs": [],
   "source": [
    "descriptions_df = pd.read_csv('book_descriptions.csv')"
   ]
  },
  {
   "cell_type": "code",
   "execution_count": 3,
   "id": "13c28660",
   "metadata": {},
   "outputs": [],
   "source": [
    "descriptions = descriptions_df['cleaned_description']"
   ]
  },
  {
   "cell_type": "code",
   "execution_count": 4,
   "id": "9206448b",
   "metadata": {},
   "outputs": [],
   "source": [
    "model = SentenceTransformer('all-MiniLM-L6-v2')\n",
    "embedding = model.encode(descriptions)"
   ]
  },
  {
   "cell_type": "code",
   "execution_count": 8,
   "id": "8984c635",
   "metadata": {},
   "outputs": [
    {
     "data": {
      "text/plain": [
       "array([[-0.04093039, -0.03696493, -0.02065482, ..., -0.06907739,\n",
       "         0.00794953, -0.001958  ],\n",
       "       [ 0.02867541, -0.07984167, -0.03442308, ..., -0.06954962,\n",
       "         0.03544827,  0.038959  ],\n",
       "       [-0.03208367,  0.06319077, -0.03397288, ..., -0.02824323,\n",
       "        -0.02264201, -0.01976205],\n",
       "       ...,\n",
       "       [-0.02688383, -0.0256953 ,  0.06172993, ...,  0.01619896,\n",
       "         0.02503016, -0.0225933 ],\n",
       "       [ 0.01711508, -0.06349336,  0.02498684, ..., -0.13052948,\n",
       "        -0.03344487, -0.01236797],\n",
       "       [-0.009082  , -0.00851851, -0.08813556, ..., -0.01130437,\n",
       "         0.09200647, -0.00416283]], shape=(6252, 384), dtype=float32)"
      ]
     },
     "execution_count": 8,
     "metadata": {},
     "output_type": "execute_result"
    }
   ],
   "source": [
    "embedding"
   ]
  }
 ],
 "metadata": {
  "kernelspec": {
   "display_name": ".venv",
   "language": "python",
   "name": "python3"
  },
  "language_info": {
   "codemirror_mode": {
    "name": "ipython",
    "version": 3
   },
   "file_extension": ".py",
   "mimetype": "text/x-python",
   "name": "python",
   "nbconvert_exporter": "python",
   "pygments_lexer": "ipython3",
   "version": "3.13.0"
  }
 },
 "nbformat": 4,
 "nbformat_minor": 5
}

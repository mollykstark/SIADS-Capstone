{
 "cells": [
  {
   "cell_type": "code",
   "id": "initial_id",
   "metadata": {
    "collapsed": true,
    "ExecuteTime": {
     "end_time": "2025-07-04T17:44:40.169066Z",
     "start_time": "2025-07-04T17:44:40.150511Z"
    }
   },
   "source": [
    "import pandas as pd\n",
    "import json"
   ],
   "outputs": [],
   "execution_count": 12
  },
  {
   "metadata": {
    "ExecuteTime": {
     "end_time": "2025-07-04T17:44:08.359149Z",
     "start_time": "2025-07-04T17:44:07.895653Z"
    }
   },
   "cell_type": "code",
   "source": [
    "# Use the reviews dataset to look for the matching book_id\n",
    "reviews_df = pd.read_csv('10000_reviews.csv')"
   ],
   "id": "405330d71c530503",
   "outputs": [],
   "execution_count": 10
  },
  {
   "metadata": {
    "ExecuteTime": {
     "end_time": "2025-07-04T17:44:21.961953Z",
     "start_time": "2025-07-04T17:44:21.947225Z"
    }
   },
   "cell_type": "code",
   "source": [
    "# Extract the book_id from reviews dataset\n",
    "\n",
    "book_ids_to_keep = set(reviews_df['book_id'].unique())"
   ],
   "id": "2e74a9ceacd1f5b4",
   "outputs": [],
   "execution_count": 11
  },
  {
   "metadata": {
    "ExecuteTime": {
     "end_time": "2025-07-04T17:53:30.795627Z",
     "start_time": "2025-07-04T17:53:30.786326Z"
    }
   },
   "cell_type": "code",
   "source": [
    "# Keeping only the rows with same book_id\n",
    "\n",
    "def get_books_for_reviews(book_file, book_ids_set):\n",
    "    books = []\n",
    "    with open(book_file, 'rt', encoding='utf-8') as f:\n",
    "        for line in f:\n",
    "            book = json.loads(line)\n",
    "            if int(book['book_id']) in book_ids_set:\n",
    "                books.append(book)\n",
    "    return pd.DataFrame(books)"
   ],
   "id": "dbcd99daf4554248",
   "outputs": [],
   "execution_count": 19
  },
  {
   "metadata": {
    "ExecuteTime": {
     "end_time": "2025-07-04T17:55:32.202092Z",
     "start_time": "2025-07-04T17:53:32.330200Z"
    }
   },
   "cell_type": "code",
   "source": [
    "\n",
    "books_df = get_books_for_reviews(\"goodreads_books.json\", book_ids_to_keep)"
   ],
   "id": "342803f42aa140af",
   "outputs": [],
   "execution_count": 20
  },
  {
   "metadata": {
    "ExecuteTime": {
     "end_time": "2025-07-04T17:57:02.595068Z",
     "start_time": "2025-07-04T17:57:02.588465Z"
    }
   },
   "cell_type": "code",
   "source": "len(books_df)",
   "id": "4de4302543c244b8",
   "outputs": [
    {
     "data": {
      "text/plain": [
       "6301"
      ]
     },
     "execution_count": 22,
     "metadata": {},
     "output_type": "execute_result"
    }
   ],
   "execution_count": 22
  },
  {
   "metadata": {
    "ExecuteTime": {
     "end_time": "2025-07-04T17:58:11.025315Z",
     "start_time": "2025-07-04T17:58:08.681227Z"
    }
   },
   "cell_type": "code",
   "source": "books_df.to_csv('book_titles.csv')",
   "id": "ca191dfc8e4f310f",
   "outputs": [],
   "execution_count": 23
  },
  {
   "metadata": {},
   "cell_type": "code",
   "outputs": [],
   "execution_count": null,
   "source": "",
   "id": "9fee1e563928883e"
  }
 ],
 "metadata": {
  "kernelspec": {
   "display_name": "Python 3",
   "language": "python",
   "name": "python3"
  },
  "language_info": {
   "codemirror_mode": {
    "name": "ipython",
    "version": 2
   },
   "file_extension": ".py",
   "mimetype": "text/x-python",
   "name": "python",
   "nbconvert_exporter": "python",
   "pygments_lexer": "ipython2",
   "version": "2.7.6"
  }
 },
 "nbformat": 4,
 "nbformat_minor": 5
}
